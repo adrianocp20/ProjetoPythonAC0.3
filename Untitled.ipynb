{
 "cells": [
  {
   "cell_type": "markdown",
   "id": "f72bbcaa",
   "metadata": {},
   "source": [
    "### Extração dos Links de Download de Videos do Vimeo\n",
    "\n",
    "* Precisamos pegar os links em 1080p, 720p e 540p para importar os videos para uma nova plataforma\n"
   ]
  },
  {
   "cell_type": "code",
   "execution_count": null,
   "id": "4e47224a",
   "metadata": {},
   "outputs": [],
   "source": [
    "# Para pegar o dicionario do vimeo, use:\n",
    "from dic import dicionario_vimeo\n",
    "\n",
    "\n",
    "# Você precisa chegar em:\n",
    "# videos = [\n",
    "#      {'url': video_url, 'nome': nome_video, 'duracao': duracao, 'link540p': link540p, 'link720p': link720p, \n",
    "# 'link1080p': link1080p }\n",
    "\n",
    "\n"
   ]
  }
 ],
 "metadata": {
  "kernelspec": {
   "display_name": "Python 3 (ipykernel)",
   "language": "python",
   "name": "python3"
  },
  "language_info": {
   "codemirror_mode": {
    "name": "ipython",
    "version": 3
   },
   "file_extension": ".py",
   "mimetype": "text/x-python",
   "name": "python",
   "nbconvert_exporter": "python",
   "pygments_lexer": "ipython3",
   "version": "3.9.12"
  }
 },
 "nbformat": 4,
 "nbformat_minor": 5
}
